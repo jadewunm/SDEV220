{
 "cells": [
  {
   "cell_type": "code",
   "execution_count": 6,
   "id": "d05a23e6-dde0-4abd-9a8e-1ebf361a1c4f",
   "metadata": {},
   "outputs": [
    {
     "name": "stdout",
     "output_type": "stream",
     "text": [
      "['Cinderella', 'mozzarella', 'salmonella']\n",
      "['Cinderella', 'MOZZARELLA', 'salmonella']\n",
      "['Cinderella', 'MOZZARELLA']\n"
     ]
    }
   ],
   "source": [
    "#creating list\n",
    "things_list = [\"cinderella\", \"mozzarella\", \"salmonella\"]\n",
    "\n",
    "#capitalize the element that refers to a person\n",
    "things_list[0] = things_list[0].capitalize()\n",
    "print(things_list)\n",
    "\n",
    "#make cheesy element uppercase\n",
    "things_list[1] = things_list[1].upper()\n",
    "print(things_list)\n",
    "\n",
    "#delete the disease element\n",
    "things_list.remove(\"salmonella\")\n",
    "print(things_list)"
   ]
  },
  {
   "cell_type": "code",
   "execution_count": 7,
   "id": "c4bdd1fe-259e-4a8d-9cba-f4491aec17df",
   "metadata": {},
   "outputs": [
    {
     "name": "stdout",
     "output_type": "stream",
     "text": [
      "['Harry', 'Ron', 'Hermione']\n"
     ]
    }
   ],
   "source": [
    "def good():\n",
    "    return ['Harry', 'Ron', 'Hermione']\n",
    "print(good())    "
   ]
  },
  {
   "cell_type": "code",
   "execution_count": 10,
   "id": "5e7d4b5d-a3ef-4e33-b572-86341ce312e6",
   "metadata": {},
   "outputs": [
    {
     "name": "stdout",
     "output_type": "stream",
     "text": [
      "5\n"
     ]
    }
   ],
   "source": [
    "def get_odds():\n",
    "    for num in range(10):\n",
    "        if num % 2 == 1: \n",
    "            yield num\n",
    "\n",
    "odds = get_odds()\n",
    "for i, value in enumerate(odds, start=1):\n",
    "    if i == 3:\n",
    "        print(value)\n",
    "        break\n"
   ]
  },
  {
   "cell_type": "code",
   "execution_count": null,
   "id": "87b895cc-3a79-4c4c-90a0-7a666072feef",
   "metadata": {},
   "outputs": [],
   "source": []
  }
 ],
 "metadata": {
  "kernelspec": {
   "display_name": "Python 3 (ipykernel)",
   "language": "python",
   "name": "python3"
  },
  "language_info": {
   "codemirror_mode": {
    "name": "ipython",
    "version": 3
   },
   "file_extension": ".py",
   "mimetype": "text/x-python",
   "name": "python",
   "nbconvert_exporter": "python",
   "pygments_lexer": "ipython3",
   "version": "3.12.7"
  }
 },
 "nbformat": 4,
 "nbformat_minor": 5
}
