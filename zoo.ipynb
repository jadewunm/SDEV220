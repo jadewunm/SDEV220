{
 "cells": [
  {
   "cell_type": "code",
   "execution_count": 1,
   "id": "c6dfb64e-8daa-46af-a078-c261ca83f2bf",
   "metadata": {},
   "outputs": [],
   "source": [
    "#zoo.py\n",
    "\n",
    "def hours():\n",
    "    print('Open 9-5 daily')"
   ]
  },
  {
   "cell_type": "code",
   "execution_count": null,
   "id": "e712d912-42e6-4d4b-8538-af807a41cf14",
   "metadata": {},
   "outputs": [],
   "source": []
  }
 ],
 "metadata": {
  "kernelspec": {
   "display_name": "Python 3 (ipykernel)",
   "language": "python",
   "name": "python3"
  },
  "language_info": {
   "codemirror_mode": {
    "name": "ipython",
    "version": 3
   },
   "file_extension": ".py",
   "mimetype": "text/x-python",
   "name": "python",
   "nbconvert_exporter": "python",
   "pygments_lexer": "ipython3",
   "version": "3.12.7"
  }
 },
 "nbformat": 4,
 "nbformat_minor": 5
}
