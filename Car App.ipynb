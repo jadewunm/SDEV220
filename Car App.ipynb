{
 "cells": [
  {
   "cell_type": "code",
   "execution_count": 12,
   "id": "87b895cc-3a79-4c4c-90a0-7a666072feef",
   "metadata": {},
   "outputs": [
    {
     "name": "stdout",
     "output_type": "stream",
     "text": [
      "Please enter the following details about your car:\n"
     ]
    },
    {
     "name": "stdin",
     "output_type": "stream",
     "text": [
      "Year:  2012\n",
      "Make:  Honda\n",
      "Model:  Civic\n",
      "Number of doors (2 or 4):  2\n",
      "Type of roof (solid or sun roof):  sun roof\n"
     ]
    },
    {
     "name": "stdout",
     "output_type": "stream",
     "text": [
      "\n",
      "Vehicle Details:\n",
      "  Vehicle type: car\n",
      "  Year: 2012\n",
      "  Make: Honda\n",
      "  Model: Civic\n",
      "  Number of doors: 2\n",
      "  Type of roof: sun roof\n"
     ]
    }
   ],
   "source": [
    "# Superclass: Vehicle\n",
    "class Vehicle:\n",
    "    def __init__(self, vehicle_type):\n",
    "        self.vehicle_type = vehicle_type\n",
    "\n",
    "# Subclass: Automobile\n",
    "class Automobile(Vehicle):\n",
    "    def __init__(self, vehicle_type, year, make, model, doors, roof):\n",
    "        super().__init__(vehicle_type)\n",
    "        self.year = year\n",
    "        self.make = make\n",
    "        self.model = model\n",
    "        self.doors = doors\n",
    "        self.roof = roof\n",
    "\n",
    "def main():\n",
    "    vehicle_type = \"car\"\n",
    "    \n",
    "    print(\"Please enter the following details about your car:\")\n",
    "    year = input(\"Year: \")\n",
    "    make = input(\"Make: \")\n",
    "    model = input(\"Model: \")\n",
    "    \n",
    "    while True:\n",
    "        try:\n",
    "            doors = int(input(\"Number of doors (2 or 4): \"))\n",
    "            if doors in [2, 4]:\n",
    "                break\n",
    "            else:\n",
    "                print(\"Please enter 2 or 4.\")\n",
    "        except ValueError:\n",
    "            print(\"Invalid input. Please enter a number (2 or 4).\")\n",
    "    \n",
    "    while True:\n",
    "        roof = input(\"Type of roof (solid or sun roof): \").lower()\n",
    "        if roof in [\"solid\", \"sun roof\"]:\n",
    "            break\n",
    "        else:\n",
    "            print('Please enter either \"solid\" or \"sun roof\".')\n",
    "    \n",
    "    car = Automobile(vehicle_type, year, make, model, doors, roof)\n",
    "    \n",
    "    print(\"\\nVehicle Details:\")\n",
    "    print(f\"  Vehicle type: {car.vehicle_type}\")\n",
    "    print(f\"  Year: {car.year}\")\n",
    "    print(f\"  Make: {car.make}\")\n",
    "    print(f\"  Model: {car.model}\")\n",
    "    print(f\"  Number of doors: {car.doors}\")\n",
    "    print(f\"  Type of roof: {car.roof}\")\n",
    "\n",
    "if __name__ == \"__main__\":\n",
    "    main()\n"
   ]
  },
  {
   "cell_type": "code",
   "execution_count": null,
   "id": "3777400d-69f4-4594-b553-d2bad523033d",
   "metadata": {},
   "outputs": [],
   "source": []
  }
 ],
 "metadata": {
  "kernelspec": {
   "display_name": "Python 3 (ipykernel)",
   "language": "python",
   "name": "python3"
  },
  "language_info": {
   "codemirror_mode": {
    "name": "ipython",
    "version": 3
   },
   "file_extension": ".py",
   "mimetype": "text/x-python",
   "name": "python",
   "nbconvert_exporter": "python",
   "pygments_lexer": "ipython3",
   "version": "3.12.7"
  }
 },
 "nbformat": 4,
 "nbformat_minor": 5
}
