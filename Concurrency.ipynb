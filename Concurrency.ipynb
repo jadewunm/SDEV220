{
  "metadata": {
    "kernelspec": {
      "name": "python",
      "display_name": "Python (Pyodide)",
      "language": "python"
    },
    "language_info": {
      "codemirror_mode": {
        "name": "python",
        "version": 3
      },
      "file_extension": ".py",
      "mimetype": "text/x-python",
      "name": "python",
      "nbconvert_exporter": "python",
      "pygments_lexer": "ipython3",
      "version": "3.8"
    }
  },
  "nbformat_minor": 5,
  "nbformat": 4,
  "cells": [
    {
      "id": "c6bf5bb0-8f1c-46e9-a443-6fc7e7791867",
      "cell_type": "code",
      "source": "Write the current date as a string to the text file today.txt\nfrom datetime import date, datetime\n\n# Write today's date to the file\nwith open(\"today.txt\", \"w\") as file:\n    file.write(date.today().isoformat())\n\nRead the text file today.txt into the string today_string\nwith open(\"today.txt\", \"r\") as file:\n    today_string = file.read().strip()  # Remove any extra spaces or newlines\n\n Parse the date from today_string\ntoday_date = datetime.strptime(today_string, \"%Y-%m-%d\").date()\n\nprint(\"today_string:\", today_string)\nprint(\"today_date:\", today_date)\n",
      "metadata": {
        "trusted": true
      },
      "outputs": [
        {
          "name": "stdout",
          "output_type": "stream",
          "text": "today_string: 2025-02-19\ntoday_date: 2025-02-19\n"
        }
      ],
      "execution_count": 2
    },
    {
      "id": "a182da25-9d81-48fb-923e-de6a3b5a43ba",
      "cell_type": "code",
      "source": "import multiprocessing\nimport time\nimport random\nfrom datetime import datetime\n\ndef print_time():\n    # Wait for a random number of seconds between 0 and 1\n    time.sleep(random.uniform(0, 1))\n    # Print the current time\n    print(f\"Current time: {datetime.now()}\")\n\nif __name__ == \"__main__\":\n    processes = []\n    \n    # Create three separate processes\n    for _ in range(3):\n        process = multiprocessing.Process(target=print_time)\n        processes.append(process)\n        process.start()\n    \n    # Wait for all processes to complete\n    for process in processes:\n        process.join()\n",
      "metadata": {
        "trusted": true
      },
      "outputs": [],
      "execution_count": null
    },
    {
      "id": "52ac5d4d-a933-484d-acd9-6023be1cad59",
      "cell_type": "code",
      "source": "Process Process-2 | Time: 14:30:10.456789\nProcess Process-1 | Time: 14:30:10.678123\nProcess Process-3 | Time: 14:30:10.789456\nAll processes completed.\n",
      "metadata": {
        "trusted": true
      },
      "outputs": [],
      "execution_count": null
    }
  ]
}