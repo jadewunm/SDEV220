{
 "cells": [
  {
   "cell_type": "code",
   "execution_count": 25,
   "id": "a67eb7b6-06c5-4f1e-9754-8083cfe6d8ff",
   "metadata": {},
   "outputs": [
    {
     "name": "stdout",
     "output_type": "stream",
     "text": [
      "[0, 0, 1, 1, 2, 2]\n"
     ]
    }
   ],
   "source": [
    "def sort012(arr):\n",
    "    low, mid, high = 0, 0, len(arr) - 1\n",
    "    \n",
    "    while mid <= high:\n",
    "        if arr[mid] == 0:\n",
    "            arr[low], arr[mid] = arr[mid], arr[low]\n",
    "            low += 1\n",
    "            mid += 1\n",
    "        elif arr[mid] == 1:\n",
    "            mid += 1\n",
    "        else:  \n",
    "            arr[mid], arr[high] = arr[high], arr[mid]\n",
    "            high -= 1\n",
    "\n",
    "\n",
    "arr = [0, 2, 1, 2, 0, 1]\n",
    "sort012(arr)\n",
    "print(arr) \n"
   ]
  },
  {
   "cell_type": "code",
   "execution_count": 26,
   "id": "a31526a0-98d8-407f-88c6-bd88099a5eaf",
   "metadata": {},
   "outputs": [
    {
     "name": "stdout",
     "output_type": "stream",
     "text": [
      "<function <lambda> at 0x0000024EDAB258A0>\n"
     ]
    }
   ],
   "source": [
    "string = 'GeeksforGeeks'\n",
    "\n",
    "# lambda returns a function object\n",
    "print(lambda string: string)"
   ]
  },
  {
   "cell_type": "code",
   "execution_count": 42,
   "id": "46e75f3b-f8ee-4e1b-b28e-ee3ae77fcbf7",
   "metadata": {},
   "outputs": [
    {
     "name": "stdout",
     "output_type": "stream",
     "text": [
      "2\n"
     ]
    }
   ],
   "source": [
    "def binary_search(arr, k):\n",
    "    low, high = 0, len(arr) - 1\n",
    "    \n",
    "    while low <= high:\n",
    "        mid = low + (high - low) // 2  \n",
    "        \n",
    "        if arr[mid] == k:\n",
    "            return mid  \n",
    "        elif arr[mid] < k:\n",
    "            low = mid + 1 \n",
    "        else:\n",
    "            high = mid - 1  \n",
    "    \n",
    "    return -1 \n",
    "\n",
    "arr = [1, 3, 5, 7, 9]\n",
    "k = 5\n",
    "result = binary_search(arr, k)\n",
    "print(result) \n",
    "\n"
   ]
  },
  {
   "cell_type": "code",
   "execution_count": null,
   "id": "b5e0e244-ae17-4f99-81e9-cc8526d0c08d",
   "metadata": {},
   "outputs": [],
   "source": []
  }
 ],
 "metadata": {
  "kernelspec": {
   "display_name": "Python 3 (ipykernel)",
   "language": "python",
   "name": "python3"
  },
  "language_info": {
   "codemirror_mode": {
    "name": "ipython",
    "version": 3
   },
   "file_extension": ".py",
   "mimetype": "text/x-python",
   "name": "python",
   "nbconvert_exporter": "python",
   "pygments_lexer": "ipython3",
   "version": "3.12.7"
  }
 },
 "nbformat": 4,
 "nbformat_minor": 5
}
