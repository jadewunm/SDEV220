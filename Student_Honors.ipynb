{
 "cells": [
  {
   "cell_type": "code",
   "execution_count": 1,
   "id": "c1ee94a2-044e-4129-86d0-a35f64eb1eec",
   "metadata": {},
   "outputs": [
    {
     "name": "stdin",
     "output_type": "stream",
     "text": [
      "Enter student's last name (or 'ZZZ' to quit):  Compere\n",
      "Enter student's first name:  Jim\n",
      "Enter student's GPA:  3.4\n"
     ]
    },
    {
     "name": "stdout",
     "output_type": "stream",
     "text": [
      "Jim Compere has made the Honor Roll.\n",
      "\n"
     ]
    },
    {
     "name": "stdin",
     "output_type": "stream",
     "text": [
      "Enter student's last name (or 'ZZZ' to quit):  Zoe\n",
      "Enter student's first name:  Steve\n",
      "Enter student's GPA:  3.2\n"
     ]
    },
    {
     "name": "stdout",
     "output_type": "stream",
     "text": [
      "Steve Zoe does not qualify for Dean's List or Honor Roll.\n",
      "\n"
     ]
    },
    {
     "name": "stdin",
     "output_type": "stream",
     "text": [
      "Enter student's last name (or 'ZZZ' to quit):  Khup\n",
      "Enter student's first name:  Thang\n",
      "Enter student's GPA:  4.0\n"
     ]
    },
    {
     "name": "stdout",
     "output_type": "stream",
     "text": [
      "Thang Khup has made the Dean's List.\n",
      "\n"
     ]
    },
    {
     "name": "stdin",
     "output_type": "stream",
     "text": [
      "Enter student's last name (or 'ZZZ' to quit):  Jeremy \n",
      "Enter student's first name:  Fent\n",
      "Enter student's GPA:  3.25\n"
     ]
    },
    {
     "name": "stdout",
     "output_type": "stream",
     "text": [
      "Fent Jeremy  has made the Honor Roll.\n",
      "\n"
     ]
    },
    {
     "name": "stdin",
     "output_type": "stream",
     "text": [
      "Enter student's last name (or 'ZZZ' to quit):  Oye\n",
      "Enter student's first name:  Timi\n",
      "Enter student's GPA:  3.1\n"
     ]
    },
    {
     "name": "stdout",
     "output_type": "stream",
     "text": [
      "Timi Oye does not qualify for Dean's List or Honor Roll.\n",
      "\n"
     ]
    },
    {
     "name": "stdin",
     "output_type": "stream",
     "text": [
      "Enter student's last name (or 'ZZZ' to quit):  ZZZ\n"
     ]
    },
    {
     "name": "stdout",
     "output_type": "stream",
     "text": [
      "Exiting program.\n"
     ]
    }
   ],
   "source": [
    "# Name: Janet Adewunmi\n",
    "# File name: student_honors.py\n",
    "# Description: This app accepts student names and GPAs, then determines if they qualify for the Dean's List or Honor Roll.\n",
    "\n",
    "def main():\n",
    "    while True:\n",
    "        # Ask for and accept student's last name\n",
    "        last_name = input(\"Enter student's last name (or 'ZZZ' to quit): \")\n",
    "        \n",
    "        # Check if user wants to quit\n",
    "        if last_name == 'ZZZ':\n",
    "            print(\"Exiting program.\")\n",
    "            break\n",
    "        \n",
    "        # Ask for and accept student's first name\n",
    "        first_name = input(\"Enter student's first name: \")\n",
    "        \n",
    "        # Ask for and accept student's GPA\n",
    "        while True:\n",
    "            try:\n",
    "                gpa = float(input(\"Enter student's GPA: \"))\n",
    "                break\n",
    "            except ValueError:\n",
    "                print(\"Invalid input. Please enter a numeric value for GPA.\")\n",
    "        \n",
    "        # Check if student qualifies for Dean's List or Honor Roll\n",
    "        if gpa >= 3.5:\n",
    "            print(f\"{first_name} {last_name} has made the Dean's List.\")\n",
    "        elif gpa >= 3.25:\n",
    "            print(f\"{first_name} {last_name} has made the Honor Roll.\")\n",
    "        else:\n",
    "            print(f\"{first_name} {last_name} does not qualify for Dean's List or Honor Roll.\")\n",
    "        \n",
    "        print()  # Print a blank line for readability\n",
    "\n",
    "if __name__ == \"__main__\":\n",
    "    main()\n"
   ]
  },
  {
   "cell_type": "code",
   "execution_count": null,
   "id": "d82aad12-9c3d-48e4-b87b-4c63a907fe28",
   "metadata": {},
   "outputs": [],
   "source": []
  }
 ],
 "metadata": {
  "kernelspec": {
   "display_name": "Python 3 (ipykernel)",
   "language": "python",
   "name": "python3"
  },
  "language_info": {
   "codemirror_mode": {
    "name": "ipython",
    "version": 3
   },
   "file_extension": ".py",
   "mimetype": "text/x-python",
   "name": "python",
   "nbconvert_exporter": "python",
   "pygments_lexer": "ipython3",
   "version": "3.12.7"
  }
 },
 "nbformat": 4,
 "nbformat_minor": 5
}
